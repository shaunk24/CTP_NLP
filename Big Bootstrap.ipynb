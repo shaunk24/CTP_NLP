{
 "cells": [
  {
   "cell_type": "code",
   "execution_count": null,
   "metadata": {},
   "outputs": [],
   "source": [
    "import os, sys\n",
    "import warnings\n",
    "\n",
    "if not sys.warnoptions:\n",
    "    warnings.simplefilter(\"ignore\")\n",
    "\n",
    "import pandas as pd\n",
    "import numpy as np\n",
    "import matplotlib.pyplot as plt\n",
    "import xgboost as xgb\n",
    "from sklearn.model_selection import train_test_split, GridSearchCV\n",
    "from sklearn.metrics import roc_curve, auc, roc_auc_score, recall_score, accuracy_score, f1_score, precision_score\n",
    "from sklearn.utils import resample\n",
    "from sklearn.preprocessing import MinMaxScaler\n",
    "from sklearn.impute import KNNImputer"
   ]
  },
  {
   "cell_type": "code",
   "execution_count": null,
   "metadata": {},
   "outputs": [],
   "source": [
    "cutoff = \" (cutoff 500)\""
   ]
  },
  {
   "cell_type": "code",
   "execution_count": null,
   "metadata": {},
   "outputs": [],
   "source": [
    "Labels = np.load('Labels (120).npy')\n",
    "Labels"
   ]
  },
  {
   "cell_type": "code",
   "execution_count": null,
   "metadata": {},
   "outputs": [],
   "source": [
    "RV = pd.read_csv('RV (120)', index_col=0,header=0)\n",
    "RV"
   ]
  },
  {
   "cell_type": "code",
   "execution_count": null,
   "metadata": {},
   "outputs": [],
   "source": [
    "RV_BW2V = pd.read_csv('RV_BW2V (120)' +cutoff, index_col=0,header=0)\n",
    "RV_BW2V"
   ]
  },
  {
   "cell_type": "code",
   "execution_count": null,
   "metadata": {},
   "outputs": [],
   "source": [
    "BW2V = pd.read_csv('BW2V (120)' +cutoff, index_col=0,header=0)\n",
    "BW2V"
   ]
  },
  {
   "cell_type": "code",
   "execution_count": null,
   "metadata": {},
   "outputs": [],
   "source": [
    "def run_model(X,y):\n",
    "    X_train, X_test, y_train, y_test = train_test_split(X, y, test_size=0.3, stratify=y)\n",
    "    model = xgb.XGBClassifier()\n",
    "    model.fit(X_train, y_train)\n",
    "    y_proba = model.predict_proba(X_test)[:,1]\n",
    "    return(y_proba,y_test)"
   ]
  },
  {
   "cell_type": "code",
   "execution_count": null,
   "metadata": {},
   "outputs": [],
   "source": [
    "def bootstrap(features,label,n_bootstraps):\n",
    "    X = features\n",
    "    y = label\n",
    "    preds = []\n",
    "    trues = []\n",
    "    for i in range(n_bootstraps):\n",
    "        pred , true = run_model(X,y)\n",
    "        preds.append(pred)\n",
    "        trues.append(true)\n",
    "    return(np.array(preds),np.array(trues))\n"
   ]
  },
  {
   "cell_type": "code",
   "execution_count": null,
   "metadata": {},
   "outputs": [],
   "source": [
    "#preds1,trues1 = bootstrap(RV,Labels,1000)\n",
    "#concat_preds1 = np.concatenate(preds1,axis=0)\n",
    "#concat_trues1 = np.concatenate(trues1,axis=0)\n",
    "#fpr1, tpr1, thresholds1 = roc_curve(concat_trues1,concat_preds1)\n",
    "#out_auc1 = auc(fpr1,tpr1)\n",
    "#out_auc1"
   ]
  },
  {
   "cell_type": "code",
   "execution_count": null,
   "metadata": {},
   "outputs": [],
   "source": [
    "#np.save('RV test prediction array',concat_preds1)\n",
    "#np.save('RV test true array',concat_trues1)"
   ]
  },
  {
   "cell_type": "code",
   "execution_count": null,
   "metadata": {},
   "outputs": [],
   "source": [
    "preds2,trues2 = bootstrap(BW2V,Labels,1000)\n",
    "concat_preds2 = np.concatenate(preds2,axis=0)\n",
    "concat_trues2 = np.concatenate(trues2,axis=0)\n",
    "fpr2, tpr2, thresholds2 = roc_curve(concat_trues2,concat_preds2)\n",
    "out_auc2 = auc(fpr2,tpr2)\n",
    "out_auc2"
   ]
  },
  {
   "cell_type": "code",
   "execution_count": null,
   "metadata": {},
   "outputs": [],
   "source": [
    "np.save('BW2V test prediction array' +cutoff,concat_preds2)\n",
    "np.save('BW2V test true array' +cutoff,concat_trues2)"
   ]
  },
  {
   "cell_type": "code",
   "execution_count": null,
   "metadata": {},
   "outputs": [],
   "source": [
    "preds3,trues3 = bootstrap(RV_BW2V,Labels,1000)\n",
    "concat_preds3 = np.concatenate(preds3,axis=0)\n",
    "concat_trues3 = np.concatenate(trues3,axis=0)\n",
    "fpr3, tpr3, thresholds3 = roc_curve(concat_trues3,concat_preds3)\n",
    "out_auc3 = auc(fpr3,tpr3)\n",
    "out_auc3"
   ]
  },
  {
   "cell_type": "code",
   "execution_count": null,
   "metadata": {},
   "outputs": [],
   "source": [
    "np.save('RV_BW2V test prediction array' +cutoff,concat_preds3)\n",
    "np.save('RV_BW2V test true array' +cutoff,concat_trues3)"
   ]
  }
 ],
 "metadata": {
  "kernelspec": {
   "display_name": "toolbox",
   "language": "python",
   "name": "python3"
  },
  "language_info": {
   "codemirror_mode": {
    "name": "ipython",
    "version": 3
   },
   "file_extension": ".py",
   "mimetype": "text/x-python",
   "name": "python",
   "nbconvert_exporter": "python",
   "pygments_lexer": "ipython3",
   "version": "3.10.6"
  }
 },
 "nbformat": 4,
 "nbformat_minor": 2
}
