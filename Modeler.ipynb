{
 "cells": [
  {
   "cell_type": "code",
   "execution_count": null,
   "metadata": {},
   "outputs": [],
   "source": [
    "import os, sys\n",
    "import warnings\n",
    "\n",
    "if not sys.warnoptions:\n",
    "    warnings.simplefilter(\"ignore\")\n",
    "\n",
    "import pandas as pd\n",
    "import numpy as np\n",
    "import matplotlib.pyplot as plt\n",
    "import xgboost as xgb\n",
    "from sklearn.model_selection import train_test_split, GridSearchCV\n",
    "from sklearn.metrics import roc_curve, auc, roc_auc_score, recall_score, accuracy_score, f1_score, precision_score\n",
    "from sklearn.utils import resample\n",
    "from sklearn.preprocessing import MinMaxScaler\n",
    "from sklearn.impute import KNNImputer"
   ]
  },
  {
   "cell_type": "code",
   "execution_count": null,
   "metadata": {},
   "outputs": [],
   "source": [
    "cutoff = ' (cutoff 500)'"
   ]
  },
  {
   "cell_type": "code",
   "execution_count": null,
   "metadata": {},
   "outputs": [],
   "source": [
    "NT = pd.read_csv('IAD With Hist and Demos (120)',index_col=0,header=0)\n",
    "NT"
   ]
  },
  {
   "cell_type": "code",
   "execution_count": null,
   "metadata": {},
   "outputs": [],
   "source": [
    "TFIDF = pd.read_csv('TFIDF (120)'+cutoff,index_col=0,header=0)\n",
    "TFIDF"
   ]
  },
  {
   "cell_type": "code",
   "execution_count": null,
   "metadata": {},
   "outputs": [],
   "source": [
    "BW2V = pd.read_csv('BioWord2Vecs (120)' + cutoff,index_col=0,header=0)\n",
    "BW2V"
   ]
  },
  {
   "cell_type": "code",
   "execution_count": null,
   "metadata": {},
   "outputs": [],
   "source": [
    "Labels = NT['P:C(30)>=1.8'].values\n",
    "Labels\n",
    "np.save('Labels (120)', Labels)"
   ]
  },
  {
   "cell_type": "code",
   "execution_count": null,
   "metadata": {},
   "outputs": [],
   "source": [
    "RV = NT.iloc[:,18:]\n",
    "RV.drop(columns=['Primary Arterial Site','Occlusion Location'],inplace=True)\n",
    "columns_to_drop = RV.filter(like='PreferredLanguage', axis=1).columns\n",
    "RV = RV.drop(columns=columns_to_drop)\n",
    "RV"
   ]
  },
  {
   "cell_type": "code",
   "execution_count": null,
   "metadata": {},
   "outputs": [],
   "source": [
    "scaler = MinMaxScaler()\n",
    "imputer = KNNImputer(n_neighbors=5)\n",
    "\n",
    "BW2V = pd.DataFrame(scaler.fit_transform(BW2V),columns=BW2V.columns)\n",
    "BW2V = pd.DataFrame(imputer.fit_transform(BW2V),columns=BW2V.columns)\n",
    "RV = pd.DataFrame(scaler.fit_transform(RV),columns=RV.columns)\n",
    "RV = pd.DataFrame(imputer.fit_transform(RV),columns=RV.columns)\n"
   ]
  },
  {
   "cell_type": "code",
   "execution_count": null,
   "metadata": {},
   "outputs": [],
   "source": [
    "RV.to_csv('RV (120)')"
   ]
  },
  {
   "cell_type": "code",
   "execution_count": null,
   "metadata": {},
   "outputs": [],
   "source": [
    "RV_BW2V = pd.merge(RV,BW2V,right_index=True,left_index=True)"
   ]
  },
  {
   "cell_type": "code",
   "execution_count": null,
   "metadata": {},
   "outputs": [],
   "source": [
    "RV_BW2V.to_csv('RV_BW2V (120)'+ cutoff)\n",
    "RV_BW2V"
   ]
  },
  {
   "cell_type": "code",
   "execution_count": null,
   "metadata": {},
   "outputs": [],
   "source": [
    "BW2V.to_csv('BW2V (120)' + cutoff)\n",
    "BW2V"
   ]
  },
  {
   "cell_type": "code",
   "execution_count": null,
   "metadata": {},
   "outputs": [],
   "source": [
    "from sklearn.model_selection import train_test_split\n",
    "from sklearn.metrics import roc_curve, auc\n",
    "import numpy as np\n",
    "from sklearn.neighbors import KNeighborsClassifier\n",
    "from sklearn.svm import SVC\n",
    "from sklearn.tree import DecisionTreeClassifier\n",
    "from sklearn.ensemble import RandomForestClassifier, AdaBoostClassifier, GradientBoostingClassifier\n",
    "from sklearn.naive_bayes import GaussianNB\n",
    "from sklearn.discriminant_analysis import LinearDiscriminantAnalysis, QuadraticDiscriminantAnalysis\n",
    "import xgboost as xgb\n",
    "\n",
    "def run_model(X, y, model):\n",
    "    X_train, X_test, y_train, y_test = train_test_split(X, y, test_size=0.3, stratify=y)\n",
    "    model.fit(X_train, y_train)\n",
    "    y_proba = model.predict_proba(X_test)[:, 1]\n",
    "    return y_proba, y_test\n",
    "\n",
    "def bootstrap(X, y, n_bootstraps, model):\n",
    "    auc_values = []\n",
    "    for i in range(n_bootstraps):\n",
    "        y_proba, y_label = run_model(X, y, model)\n",
    "        fpr, tpr, _ = roc_curve(y_label, y_proba)\n",
    "        auc_values.append(auc(fpr, tpr))\n",
    "\n",
    "    auc_values.sort()\n",
    "\n",
    "    low_ci = int(np.floor(.025 * n_bootstraps))\n",
    "    median = int(np.floor(.5 * n_bootstraps))\n",
    "    high_ci = int(np.floor(.975 * n_bootstraps))\n",
    "\n",
    "    metrics = {\n",
    "        'number of samples': y.shape[0],\n",
    "        'number of positive labels': int(y.sum()),\n",
    "        'auc': {'mean': auc_values[median], '95% CI lower bound': auc_values[low_ci], '95% CI upper bound': auc_values[high_ci]}\n",
    "    }\n",
    "    print(metrics)\n",
    "    return metrics\n",
    "\n",
    "# List of models to iterate through\n",
    "model_list = [\n",
    "    ('K-Nearest Neighbors', KNeighborsClassifier()),\n",
    "    ('SVC', SVC(probability=True)),\n",
    "    ('Decision Tree', DecisionTreeClassifier()),\n",
    "    ('Random Forest', RandomForestClassifier()),\n",
    "    ('Ada Boost', AdaBoostClassifier()),\n",
    "    ('Gradient Boosted', GradientBoostingClassifier()),\n",
    "    ('Gaussian Naive Bayes', GaussianNB()),\n",
    "    ('Linear Discriminant Analysis', LinearDiscriminantAnalysis()),\n",
    "    ('Quadratic Discriminant Analysis', QuadraticDiscriminantAnalysis()),\n",
    "    ('XGBoost', xgb.XGBClassifier())\n",
    "]\n",
    "\n",
    "with open('model_results '+cutoff+'.txt', 'w') as file:\n",
    "    # Iterate through the models and run the bootstrap function for each\n",
    "    for model_name, model in model_list:\n",
    "        print(f'Running bootstrap for {model_name}')\n",
    "        metrics = bootstrap(RV_BW2V, Labels, 1000, model)\n",
    "        output = f'{model_name} metrics: {metrics}\\n'\n",
    "        print(output)\n",
    "        file.write(output)\n"
   ]
  }
 ],
 "metadata": {
  "kernelspec": {
   "display_name": "toolbox",
   "language": "python",
   "name": "python3"
  },
  "language_info": {
   "codemirror_mode": {
    "name": "ipython",
    "version": 3
   },
   "file_extension": ".py",
   "mimetype": "text/x-python",
   "name": "python",
   "nbconvert_exporter": "python",
   "pygments_lexer": "ipython3",
   "version": "3.10.6"
  }
 },
 "nbformat": 4,
 "nbformat_minor": 2
}
